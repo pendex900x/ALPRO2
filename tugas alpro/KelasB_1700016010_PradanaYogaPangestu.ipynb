{
 "cells": [
  {
   "cell_type": "code",
   "execution_count": 80,
   "metadata": {},
   "outputs": [],
   "source": [
    "def Selection_Sort(A):\n",
    "    for i in range(len(A)-1):\n",
    "        min_idx = i\n",
    "        for j in range(i+1, len(A)):\n",
    "            if A[min_idx] > A[j]:\n",
    "                min_idx = j\n",
    "           \n",
    "                \n",
    "        temp=A[i]\n",
    "        A[i]=A[min_idx]\n",
    "        A[min_idx]=temp\n",
    "        \n",
    "        print( 'iterasi', i, A)"
   ]
  },
  {
   "cell_type": "code",
   "execution_count": 86,
   "metadata": {},
   "outputs": [
    {
     "name": "stdout",
     "output_type": "stream",
     "text": [
      "iterasi 0 [2, 3, 5, 6, 4, 78, 98]\n",
      "iterasi 1 [2, 3, 5, 6, 4, 78, 98]\n",
      "iterasi 2 [2, 3, 4, 6, 5, 78, 98]\n",
      "iterasi 3 [2, 3, 4, 5, 6, 78, 98]\n",
      "iterasi 4 [2, 3, 4, 5, 6, 78, 98]\n",
      "iterasi 5 [2, 3, 4, 5, 6, 78, 98]\n"
     ]
    }
   ],
   "source": [
    "A=[4,3,5,6,2,78,98]\n",
    "Selection_Sort(A)"
   ]
  },
  {
   "cell_type": "code",
   "execution_count": 91,
   "metadata": {},
   "outputs": [],
   "source": [
    "def Selection_sort(A):\n",
    "    for i in range(len(A)-1):\n",
    "        min_idx = i\n",
    "        for j in range(i+1, len(A)):\n",
    "            if A[j] < A[min_idx]:\n",
    "                min_idx = j\n",
    "           \n",
    "                \n",
    "        temp=A[i]\n",
    "        A[i]=A[min_idx]\n",
    "        A[min_idx]=temp\n",
    "        \n",
    "        print( 'iterasi', i, A)"
   ]
  },
  {
   "cell_type": "code",
   "execution_count": 92,
   "metadata": {},
   "outputs": [
    {
     "name": "stdout",
     "output_type": "stream",
     "text": [
      "iterasi 0 [2, 3, 5, 6, 4, 78, 98]\n",
      "iterasi 1 [2, 3, 5, 6, 4, 78, 98]\n",
      "iterasi 2 [2, 3, 4, 6, 5, 78, 98]\n",
      "iterasi 3 [2, 3, 4, 5, 6, 78, 98]\n",
      "iterasi 4 [2, 3, 4, 5, 6, 78, 98]\n",
      "iterasi 5 [2, 3, 4, 5, 6, 78, 98]\n"
     ]
    }
   ],
   "source": [
    "A=[4,3,5,6,2,78,98]\n",
    "Selection_sort(A)"
   ]
  },
  {
   "cell_type": "code",
   "execution_count": 93,
   "metadata": {},
   "outputs": [],
   "source": [
    "def selection_sort(A):\n",
    "    for i in range(len(A)):\n",
    "        min_idx = i\n",
    "        for j in range(i+1, len(A)):\n",
    "            if A[min_idx] > A[j]:\n",
    "                min_idx = j\n",
    "           \n",
    "        A[i], A[min_idx] = A[min_idx], A[i]\n",
    "        \n",
    "        print( 'iterasi', i, A)"
   ]
  },
  {
   "cell_type": "code",
   "execution_count": 94,
   "metadata": {},
   "outputs": [
    {
     "name": "stdout",
     "output_type": "stream",
     "text": [
      "iterasi 0 [2, 3, 5, 6, 4, 78, 98]\n",
      "iterasi 1 [2, 3, 5, 6, 4, 78, 98]\n",
      "iterasi 2 [2, 3, 4, 6, 5, 78, 98]\n",
      "iterasi 3 [2, 3, 4, 5, 6, 78, 98]\n",
      "iterasi 4 [2, 3, 4, 5, 6, 78, 98]\n",
      "iterasi 5 [2, 3, 4, 5, 6, 78, 98]\n",
      "iterasi 6 [2, 3, 4, 5, 6, 78, 98]\n"
     ]
    }
   ],
   "source": [
    "A=[4,3,5,6,2,78,98]\n",
    "selection_sort(A)"
   ]
  },
  {
   "cell_type": "code",
   "execution_count": 96,
   "metadata": {},
   "outputs": [],
   "source": [
    "def selectionsort(A):\n",
    "    for i in range(len(A)):\n",
    "        min_idx = i\n",
    "        for j in range(i+1, len(A)):\n",
    "            if A[min_idx] < A[j]:\n",
    "                min_idx = j\n",
    "           \n",
    "        A[i], A[min_idx] = A[min_idx], A[i]\n",
    "        \n",
    "        print( 'iterasi', i, A)"
   ]
  },
  {
   "cell_type": "code",
   "execution_count": 97,
   "metadata": {},
   "outputs": [
    {
     "name": "stdout",
     "output_type": "stream",
     "text": [
      "iterasi 0 [98, 3, 5, 6, 2, 78, 4]\n",
      "iterasi 1 [98, 78, 5, 6, 2, 3, 4]\n",
      "iterasi 2 [98, 78, 6, 5, 2, 3, 4]\n",
      "iterasi 3 [98, 78, 6, 5, 2, 3, 4]\n",
      "iterasi 4 [98, 78, 6, 5, 4, 3, 2]\n",
      "iterasi 5 [98, 78, 6, 5, 4, 3, 2]\n",
      "iterasi 6 [98, 78, 6, 5, 4, 3, 2]\n"
     ]
    }
   ],
   "source": [
    "A=[4,3,5,6,2,78,98]\n",
    "selectionsort(A)"
   ]
  },
  {
   "cell_type": "code",
   "execution_count": 229,
   "metadata": {},
   "outputs": [],
   "source": [
    "def SelectionSort(A):\n",
    "    for i in range(len(A)):\n",
    "        min_idx = i\n",
    "        for j in range(i+1, len(A)):\n",
    "            if A[min_idx] > A[j]:\n",
    "                min_idx = j\n",
    "           \n",
    "        A[i], A[min_idx] = A[min_idx], A[i]\n",
    "        print(\"\\nindex key: {} tukar : {} \".format((i),min_idx))\n",
    "        print( '\\titerasi', i, A)"
   ]
  },
  {
   "cell_type": "code",
   "execution_count": 230,
   "metadata": {},
   "outputs": [
    {
     "name": "stdout",
     "output_type": "stream",
     "text": [
      "\n",
      "index key: 0 tukar 4 \n",
      "\titerasi 0 [2, 3, 5, 6, 4, 78, 98]\n",
      "\n",
      "index key: 1 tukar 1 \n",
      "\titerasi 1 [2, 3, 5, 6, 4, 78, 98]\n",
      "\n",
      "index key: 2 tukar 4 \n",
      "\titerasi 2 [2, 3, 4, 6, 5, 78, 98]\n",
      "\n",
      "index key: 3 tukar 4 \n",
      "\titerasi 3 [2, 3, 4, 5, 6, 78, 98]\n",
      "\n",
      "index key: 4 tukar 4 \n",
      "\titerasi 4 [2, 3, 4, 5, 6, 78, 98]\n",
      "\n",
      "index key: 5 tukar 5 \n",
      "\titerasi 5 [2, 3, 4, 5, 6, 78, 98]\n",
      "\n",
      "index key: 6 tukar 6 \n",
      "\titerasi 6 [2, 3, 4, 5, 6, 78, 98]\n"
     ]
    }
   ],
   "source": [
    "A=[4,3,5,6,2,78,98]\n",
    "SelectionSort(A)"
   ]
  },
  {
   "cell_type": "code",
   "execution_count": null,
   "metadata": {},
   "outputs": [],
   "source": []
  }
 ],
 "metadata": {
  "kernelspec": {
   "display_name": "Python 3",
   "language": "python",
   "name": "python3"
  },
  "language_info": {
   "codemirror_mode": {
    "name": "ipython",
    "version": 3
   },
   "file_extension": ".py",
   "mimetype": "text/x-python",
   "name": "python",
   "nbconvert_exporter": "python",
   "pygments_lexer": "ipython3",
   "version": "3.6.9"
  }
 },
 "nbformat": 4,
 "nbformat_minor": 4
}
