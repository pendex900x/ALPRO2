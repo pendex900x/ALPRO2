{
 "cells": [
  {
   "cell_type": "code",
   "execution_count": 1,
   "metadata": {},
   "outputs": [],
   "source": [
    "def buble2(A):\n",
    "    tukar=True\n",
    "    while tukar:\n",
    "        tukar=False\n",
    "        for j in range(len(A)-1):\n",
    "            if A[j]>A[j+1]:\n",
    "                A[j], A[j+1] = A[j+1], A[j]\n",
    "                tukar=True\n",
    "    return A\n",
    "    "
   ]
  },
  {
   "cell_type": "code",
   "execution_count": 2,
   "metadata": {},
   "outputs": [
    {
     "data": {
      "text/plain": [
       "[1, 2, 3, 4, 8]"
      ]
     },
     "execution_count": 2,
     "metadata": {},
     "output_type": "execute_result"
    }
   ],
   "source": [
    "A= [3,1,8,4,2]\n",
    "buble2(A)"
   ]
  },
  {
   "cell_type": "code",
   "execution_count": 3,
   "metadata": {},
   "outputs": [],
   "source": [
    "def buble_dec(A):\n",
    "    tukar=True\n",
    "    while tukar:\n",
    "        tukar=False\n",
    "        for j in range(len(A)-1):\n",
    "            if A[j]<A[j+1]:\n",
    "                A[j], A[j+1] = A[j+1], A[j]\n",
    "                tukar=True\n",
    "    return A"
   ]
  },
  {
   "cell_type": "code",
   "execution_count": 4,
   "metadata": {},
   "outputs": [
    {
     "data": {
      "text/plain": [
       "[8, 4, 3, 2, 1]"
      ]
     },
     "execution_count": 4,
     "metadata": {},
     "output_type": "execute_result"
    }
   ],
   "source": [
    "A = [3,1,8,4,2]\n",
    "buble_dec(A)"
   ]
  },
  {
   "cell_type": "code",
   "execution_count": 5,
   "metadata": {},
   "outputs": [],
   "source": [
    "def bublesort(A):\n",
    "    tukar=True\n",
    "    while tukar:\n",
    "        \n",
    "        tukar=False\n",
    "        \n",
    "        for j in range(len(A)-1):\n",
    "            if A[j]>A[j+1]:\n",
    "                A[j], A[j+1] = A[j+1], A[j]\n",
    "                print(\"tukar: {} dengan : {} \".format((A[j]),(A[j+1])))\n",
    "                print ('\\turutan menjadi', A)\n",
    "                tukar=True\n",
    "       \n",
    "            \n",
    "    #print( '\\titerasi', A)\n",
    "    return \n",
    "        "
   ]
  },
  {
   "cell_type": "code",
   "execution_count": 6,
   "metadata": {},
   "outputs": [
    {
     "name": "stdout",
     "output_type": "stream",
     "text": [
      "index key: 1 tukar : 3 \n",
      "\turutan menjadi [1, 3, 8, 4, 2]\n",
      "index key: 4 tukar : 8 \n",
      "\turutan menjadi [1, 3, 4, 8, 2]\n",
      "index key: 2 tukar : 8 \n",
      "\turutan menjadi [1, 3, 4, 2, 8]\n",
      "index key: 2 tukar : 4 \n",
      "\turutan menjadi [1, 3, 2, 4, 8]\n",
      "index key: 2 tukar : 3 \n",
      "\turutan menjadi [1, 2, 3, 4, 8]\n"
     ]
    }
   ],
   "source": [
    "A= [3,1,8,4,2]\n",
    "bublesort(A)"
   ]
  },
  {
   "cell_type": "code",
   "execution_count": null,
   "metadata": {},
   "outputs": [],
   "source": []
  }
 ],
 "metadata": {
  "kernelspec": {
   "display_name": "Python 3",
   "language": "python",
   "name": "python3"
  },
  "language_info": {
   "codemirror_mode": {
    "name": "ipython",
    "version": 3
   },
   "file_extension": ".py",
   "mimetype": "text/x-python",
   "name": "python",
   "nbconvert_exporter": "python",
   "pygments_lexer": "ipython3",
   "version": "3.6.9"
  }
 },
 "nbformat": 4,
 "nbformat_minor": 4
}
