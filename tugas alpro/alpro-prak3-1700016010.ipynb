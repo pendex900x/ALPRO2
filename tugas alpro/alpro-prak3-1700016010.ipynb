{
 "cells": [
  {
   "cell_type": "code",
   "execution_count": 417,
   "metadata": {},
   "outputs": [],
   "source": [
    "def insertion_sort(sort_list):\n",
    "    for i in range(1, len(sort_list)):\n",
    "        key = sort_list[i]\n",
    "        j = i \n",
    "        while j > 0 and key < sort_list[j-1]:\n",
    "            print(\"Pergeseran pada iterasi ke {} j ke : {} \".format(sort_list[j], sort_list[i-1]))\n",
    "            sort_list[j] = sort_list[j - 1] \n",
    "            print(sort_list)\n",
    "            j -= 1\n",
    "        sort_list[j] = key\n",
    "        print( 'iterasi', i-1, sort_list)\n",
    "\n"
   ]
  },
  {
   "cell_type": "code",
   "execution_count": 418,
   "metadata": {},
   "outputs": [
    {
     "name": "stdout",
     "output_type": "stream",
     "text": [
      "Pergeseran pada iterasi ke 3 j ke : 4 \n",
      "[4, 4, 5, 6, 2, 78, 98]\n",
      "iterasi 0 [3, 4, 5, 6, 2, 78, 98]\n",
      "iterasi 1 [3, 4, 5, 6, 2, 78, 98]\n",
      "iterasi 2 [3, 4, 5, 6, 2, 78, 98]\n",
      "Pergeseran pada iterasi ke 2 j ke : 6 \n",
      "[3, 4, 5, 6, 6, 78, 98]\n",
      "Pergeseran pada iterasi ke 6 j ke : 6 \n",
      "[3, 4, 5, 5, 6, 78, 98]\n",
      "Pergeseran pada iterasi ke 5 j ke : 5 \n",
      "[3, 4, 4, 5, 6, 78, 98]\n",
      "Pergeseran pada iterasi ke 4 j ke : 5 \n",
      "[3, 3, 4, 5, 6, 78, 98]\n",
      "iterasi 3 [2, 3, 4, 5, 6, 78, 98]\n",
      "iterasi 4 [2, 3, 4, 5, 6, 78, 98]\n",
      "iterasi 5 [2, 3, 4, 5, 6, 78, 98]\n"
     ]
    }
   ],
   "source": [
    "A=[4,3,5,6,2,78,98]\n",
    "insertion_sort(A)"
   ]
  },
  {
   "cell_type": "code",
   "execution_count": 384,
   "metadata": {},
   "outputs": [],
   "source": [
    "def insertion_sort(sort_list):\n",
    "    for i in range(1, len(sort_list)):\n",
    "        key = sort_list[i]\n",
    "        j = i - 1\n",
    "        while j >= 0 and key < sort_list[j]:\n",
    "            sort_list[j + 1]= sort_list[j]\n",
    "            j -= 1\n",
    "            sort_list[ j + 1] = key\n",
    "        print( 'iterasi', i-1, sort_list)"
   ]
  },
  {
   "cell_type": "code",
   "execution_count": 385,
   "metadata": {},
   "outputs": [
    {
     "name": "stdout",
     "output_type": "stream",
     "text": [
      "iterasi 0 [3, 4, 5, 6, 2, 78, 98]\n",
      "iterasi 1 [3, 4, 5, 6, 2, 78, 98]\n",
      "iterasi 2 [3, 4, 5, 6, 2, 78, 98]\n",
      "iterasi 3 [2, 3, 4, 5, 6, 78, 98]\n",
      "iterasi 4 [2, 3, 4, 5, 6, 78, 98]\n",
      "iterasi 5 [2, 3, 4, 5, 6, 78, 98]\n"
     ]
    }
   ],
   "source": [
    "A=[4,3,5,6,2,78,98]\n",
    "insertion_sort(A)"
   ]
  },
  {
   "cell_type": "code",
   "execution_count": 386,
   "metadata": {},
   "outputs": [],
   "source": [
    "def insertion_sort(sort_list):\n",
    "    for i in range(1, len(sort_list)):\n",
    "        key = sort_list[i]\n",
    "        j = i - 1\n",
    "        while j >= 0 and key > sort_list[j]:\n",
    "            sort_list[j + 1]= sort_list[j]\n",
    "            j -= 1\n",
    "            sort_list[ j + 1] = key\n",
    "        print( 'iterasi', i-1, sort_list)"
   ]
  },
  {
   "cell_type": "code",
   "execution_count": 387,
   "metadata": {},
   "outputs": [
    {
     "name": "stdout",
     "output_type": "stream",
     "text": [
      "iterasi 0 [4, 3, 5, 6, 2, 78, 98]\n",
      "iterasi 1 [5, 4, 3, 6, 2, 78, 98]\n",
      "iterasi 2 [6, 5, 4, 3, 2, 78, 98]\n",
      "iterasi 3 [6, 5, 4, 3, 2, 78, 98]\n",
      "iterasi 4 [78, 6, 5, 4, 3, 2, 98]\n",
      "iterasi 5 [98, 78, 6, 5, 4, 3, 2]\n"
     ]
    }
   ],
   "source": [
    "A=[4,3,5,6,2,78,98]\n",
    "insertion_sort(A)"
   ]
  },
  {
   "cell_type": "code",
   "execution_count": null,
   "metadata": {},
   "outputs": [],
   "source": []
  },
  {
   "cell_type": "code",
   "execution_count": null,
   "metadata": {},
   "outputs": [],
   "source": []
  }
 ],
 "metadata": {
  "kernelspec": {
   "display_name": "Python 3",
   "language": "python",
   "name": "python3"
  },
  "language_info": {
   "codemirror_mode": {
    "name": "ipython",
    "version": 3
   },
   "file_extension": ".py",
   "mimetype": "text/x-python",
   "name": "python",
   "nbconvert_exporter": "python",
   "pygments_lexer": "ipython3",
   "version": "3.7.3"
  }
 },
 "nbformat": 4,
 "nbformat_minor": 4
}
